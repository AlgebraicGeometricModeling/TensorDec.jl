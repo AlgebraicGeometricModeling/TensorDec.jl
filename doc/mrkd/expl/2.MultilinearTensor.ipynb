{
 "cells": [
  {
   "cell_type": "markdown",
   "metadata": {},
   "source": [
    "# Multilinear tensors"
   ]
  },
  {
   "cell_type": "code",
   "execution_count": 10,
   "metadata": {},
   "outputs": [],
   "source": [
    "using TensorDec"
   ]
  },
  {
   "cell_type": "markdown",
   "metadata": {},
   "source": [
    "We consider a multi-linear tensor of size 3 x 5 x 4, which is sum of r=4 tensor products of the random column vectors of the matrices `A0`, `B0`, `C0`with weights `w0`:"
   ]
  },
  {
   "cell_type": "code",
   "execution_count": 11,
   "metadata": {},
   "outputs": [
    {
     "data": {
      "text/plain": [
       "3×5×4 Array{Float64,3}:\n",
       "[:, :, 1] =\n",
       " 0.319429  0.635469  0.448748  0.153548  0.442585\n",
       " 0.317151  0.557379  0.416863  0.111633  0.453205\n",
       " 0.230556  0.503791  0.34481   0.138007  0.335045\n",
       "\n",
       "[:, :, 2] =\n",
       " 0.21308   0.23879   0.193367  0.0393124  0.211802\n",
       " 0.195158  0.232615  0.186988  0.0398447  0.209756\n",
       " 0.12532   0.153443  0.119337  0.0332111  0.131272\n",
       "\n",
       "[:, :, 3] =\n",
       " 0.25598   0.582839  0.382755  0.205059  0.393088\n",
       " 0.303116  0.571735  0.388197  0.214855  0.454079\n",
       " 0.239338  0.522709  0.320508  0.249643  0.347097\n",
       "\n",
       "[:, :, 4] =\n",
       " 0.188868  0.213582  0.157138  0.0749168  0.179161\n",
       " 0.173962  0.192918  0.133923  0.0945415  0.16767 \n",
       " 0.135026  0.167918  0.104803  0.104118   0.132515"
      ]
     },
     "execution_count": 11,
     "metadata": {},
     "output_type": "execute_result"
    }
   ],
   "source": [
    "r=4\n",
    "w0 = rand(r)\n",
    "A0 = rand(3,r)\n",
    "B0 = rand(5,r)\n",
    "C0 = rand(4,r)\n",
    "\n",
    "T0 = tensor(w0, A0, B0, C0)"
   ]
  },
  {
   "cell_type": "markdown",
   "metadata": {},
   "source": [
    "We compute its decomposition:"
   ]
  },
  {
   "cell_type": "code",
   "execution_count": 12,
   "metadata": {},
   "outputs": [],
   "source": [
    "w, A, B, C = decompose(T0);"
   ]
  },
  {
   "cell_type": "markdown",
   "metadata": {},
   "source": [
    "We obtain a decomposition of rank 4 with weights:"
   ]
  },
  {
   "cell_type": "code",
   "execution_count": 13,
   "metadata": {},
   "outputs": [
    {
     "data": {
      "text/plain": [
       "4-element Array{Float64,1}:\n",
       " 0.3224222686073423\n",
       " 1.1691009516673598\n",
       " 0.7305863382940503\n",
       " 0.5968718066692266"
      ]
     },
     "execution_count": 13,
     "metadata": {},
     "output_type": "execute_result"
    }
   ],
   "source": [
    "w"
   ]
  },
  {
   "cell_type": "markdown",
   "metadata": {},
   "source": [
    "The r=4 vectors of norm 1 of the first components of the decomposition are the columns of the matrix A:  "
   ]
  },
  {
   "cell_type": "code",
   "execution_count": 14,
   "metadata": {},
   "outputs": [
    {
     "data": {
      "text/plain": [
       "3×4 Array{Float64,2}:\n",
       " 0.374571  0.495746  0.725665  0.723733\n",
       " 0.619727  0.786126  0.217038  0.576062\n",
       " 0.689663  0.369109  0.65292   0.379951"
      ]
     },
     "execution_count": 14,
     "metadata": {},
     "output_type": "execute_result"
    }
   ],
   "source": [
    "A"
   ]
  },
  {
   "cell_type": "markdown",
   "metadata": {},
   "source": [
    "The r=4 vectors  of norm 1 of the second components are the columns of the matrix B: "
   ]
  },
  {
   "cell_type": "code",
   "execution_count": 15,
   "metadata": {},
   "outputs": [
    {
     "data": {
      "text/plain": [
       "5×4 Array{Float64,2}:\n",
       " -0.364084  0.315586   -0.201537  0.579243 \n",
       " -0.444107  0.618725   -0.751433  0.493687 \n",
       " -0.113996  0.474263   -0.457669  0.432602 \n",
       " -0.737864  0.0934078  -0.249374  0.0532333\n",
       " -0.335818  0.532854   -0.350834  0.480388 "
      ]
     },
     "execution_count": 15,
     "metadata": {},
     "output_type": "execute_result"
    }
   ],
   "source": [
    "B"
   ]
  },
  {
   "cell_type": "markdown",
   "metadata": {},
   "source": [
    "The r=4 vectors of norm 1 of the third components are the columns of the matrix C:"
   ]
  },
  {
   "cell_type": "code",
   "execution_count": 16,
   "metadata": {},
   "outputs": [
    {
     "data": {
      "text/plain": [
       "4×4 Adjoint{Float64,Array{Float64,2}}:\n",
       " -0.112192   0.674727   -0.73096    0.451539 \n",
       " -0.0624781  0.183315   -0.06187    0.680176 \n",
       " -0.854461   0.711642   -0.67229    0.0655968\n",
       " -0.503394   0.0685937  -0.0994776  0.573733 "
      ]
     },
     "execution_count": 16,
     "metadata": {},
     "output_type": "execute_result"
    }
   ],
   "source": [
    "C"
   ]
  },
  {
   "cell_type": "markdown",
   "metadata": {},
   "source": [
    "It corresponds to the tensor $\\sum_{i=1}^{r} w_i \\, A[:,i] \\otimes B[:,i] \\otimes C[:,i]$ for $i \\in 1:r$:"
   ]
  },
  {
   "cell_type": "code",
   "execution_count": 17,
   "metadata": {},
   "outputs": [
    {
     "data": {
      "text/plain": [
       "3×5×4 Array{Float64,3}:\n",
       "[:, :, 1] =\n",
       " 0.319429  0.635469  0.448748  0.153548  0.442585\n",
       " 0.317151  0.557379  0.416863  0.111633  0.453205\n",
       " 0.230556  0.503791  0.34481   0.138007  0.335045\n",
       "\n",
       "[:, :, 2] =\n",
       " 0.21308   0.23879   0.193367  0.0393124  0.211802\n",
       " 0.195158  0.232615  0.186988  0.0398447  0.209756\n",
       " 0.12532   0.153443  0.119337  0.0332111  0.131272\n",
       "\n",
       "[:, :, 3] =\n",
       " 0.25598   0.582839  0.382755  0.205059  0.393088\n",
       " 0.303116  0.571735  0.388197  0.214855  0.454079\n",
       " 0.239338  0.522709  0.320508  0.249643  0.347097\n",
       "\n",
       "[:, :, 4] =\n",
       " 0.188868  0.213582  0.157138  0.0749168  0.179161\n",
       " 0.173962  0.192918  0.133923  0.0945415  0.16767 \n",
       " 0.135026  0.167918  0.104803  0.104118   0.132515"
      ]
     },
     "execution_count": 17,
     "metadata": {},
     "output_type": "execute_result"
    }
   ],
   "source": [
    "T = tensor(w, A, B, C)"
   ]
  },
  {
   "cell_type": "markdown",
   "metadata": {},
   "source": [
    "We compute the $L^2$ norm of the difference between $T$ and $T_0$:"
   ]
  },
  {
   "cell_type": "code",
   "execution_count": 18,
   "metadata": {},
   "outputs": [
    {
     "data": {
      "text/plain": [
       "1.0024742282590783e-14"
      ]
     },
     "execution_count": 18,
     "metadata": {},
     "output_type": "execute_result"
    }
   ],
   "source": [
    "using LinearAlgebra\n",
    "norm(T-T0)"
   ]
  },
  {
   "cell_type": "code",
   "execution_count": null,
   "metadata": {},
   "outputs": [],
   "source": []
  }
 ],
 "metadata": {
  "kernelspec": {
   "display_name": "Julia 1.0.0",
   "language": "julia",
   "name": "julia-1.0"
  },
  "language_info": {
   "file_extension": ".jl",
   "mimetype": "application/julia",
   "name": "julia",
   "version": "1.0.0"
  }
 },
 "nbformat": 4,
 "nbformat_minor": 2
}
