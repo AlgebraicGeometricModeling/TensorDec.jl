{
 "cells": [
  {
   "cell_type": "markdown",
   "metadata": {},
   "source": [
    "# Phylogenetic trees"
   ]
  },
  {
   "cell_type": "code",
   "execution_count": 2,
   "metadata": {},
   "outputs": [
    {
     "data": {
      "text/plain": [
       "#11 (generic function with 1 method)"
      ]
     },
     "execution_count": 2,
     "metadata": {},
     "output_type": "execute_result"
    }
   ],
   "source": [
    "using TensorDec\n",
    "normalize_markov! = function(w,A,B,C) \n",
    "    for i in 1:size(A,2) \n",
    "        l = sum(A[j,i] for j in 1:size(A,1) ) \n",
    "        A[:,i] /= l\n",
    "        w[i] *= l\n",
    "    end\n",
    "    for i in 1:size(B,2) \n",
    "        l = sum(B[j,i] for j in 1:size(B,1) ) \n",
    "        B[:,i] /=l\n",
    "        w[i] *= l\n",
    "    end\n",
    "    for i in 1:size(C,2) \n",
    "        l = sum(C[j,i] for j in 1:size(B,1) ) \n",
    "        C[:,i] /=l\n",
    "        w[i] *= l\n",
    "    end\n",
    "    w, A,B,C\n",
    "end"
   ]
  },
  {
   "cell_type": "code",
   "execution_count": 3,
   "metadata": {},
   "outputs": [
    {
     "data": {
      "text/plain": [
       "([0.9999999999999999 1.0 1.0000000000000002 1.0], [1.0 0.9999999999999998 1.0 0.9999999999999999], [1.0 0.9999999999999998 0.9999999999999999 1.0])"
      ]
     },
     "execution_count": 3,
     "metadata": {},
     "output_type": "execute_result"
    }
   ],
   "source": [
    "A = rand(4,4); B = rand(4,4); C = rand(4,4); w = rand(4);\n",
    "normalize_markov!(w,A,B,C)\n",
    "fill(1.,4)'*A, fill(1.,4)'*B, fill(1.,4)'*C"
   ]
  },
  {
   "cell_type": "code",
   "execution_count": 4,
   "metadata": {},
   "outputs": [
    {
     "data": {
      "text/plain": [
       "4×4×4 Array{Float64, 3}:\n",
       "[:, :, 1] =\n",
       " 0.132693   0.0830969  0.0783148  0.141214\n",
       " 0.0432026  0.150034   0.184414   0.211311\n",
       " 0.102815   0.0950131  0.0996367  0.161985\n",
       " 0.110227   0.153269   0.204125   0.273002\n",
       "\n",
       "[:, :, 2] =\n",
       " 0.24544    0.110476  0.135381  0.252554\n",
       " 0.0525715  0.321598  0.431964  0.484858\n",
       " 0.181833   0.148571  0.189826  0.294132\n",
       " 0.236174   0.336552  0.482967  0.631557\n",
       "\n",
       "[:, :, 3] =\n",
       " 0.244296   0.0952606  0.133724  0.248845\n",
       " 0.0446221  0.428005   0.593274  0.657718\n",
       " 0.175875   0.155408   0.218437  0.318913\n",
       " 0.24778    0.436314   0.637179  0.802934\n",
       "\n",
       "[:, :, 4] =\n",
       " 0.238287  0.107459  0.130185  0.244067\n",
       " 0.051049  0.268698  0.356658  0.402542\n",
       " 0.17696   0.135821  0.170727  0.271312\n",
       " 0.227917  0.286981  0.411238  0.549965"
      ]
     },
     "execution_count": 4,
     "metadata": {},
     "output_type": "execute_result"
    }
   ],
   "source": [
    "t = tensor(w,A,B,C)"
   ]
  },
  {
   "cell_type": "code",
   "execution_count": 5,
   "metadata": {},
   "outputs": [
    {
     "data": {
      "text/plain": [
       "([8.92940660072812, 0.3243890460447168, 2.006651019586796, 4.96880683215592], [0.012871553428607897 0.4050369933160829 0.31879617225485973 0.34923006975336246; 0.4615938103813972 0.4443892119024334 0.1403420691158701 0.027166802851164264; 0.10512083876439855 0.05166979664819282 0.3558533936887121 0.2470936660929489; 0.42041379742559626 0.0989039981332909 0.18500836494055817 0.37650946130252444], [0.0035442984241463925 0.43343182390466595 0.22368019916074608 0.3805028527654701; 0.250153034295922 0.3634722384978098 0.25874874534766745 0.08889696256218112; 0.3566415108016708 0.1556898901401802 0.17900369091376936 0.17383466077310794; 0.3896611564782608 0.04740604745734398 0.3385673645778172 0.3567655238992408], [0.1092311679383719 0.2709418021047271 0.300021915931739 0.11251251094269621; 0.27582900675774047 0.2627839434231224 0.27386396039274696 0.2895401460923528; 0.3901589290224436 0.2095081948345019 0.14979577627969767 0.3192207951276887; 0.2247808962814441 0.2567660596376486 0.2763183473958164 0.27872654783726236])"
      ]
     },
     "execution_count": 5,
     "metadata": {},
     "output_type": "execute_result"
    }
   ],
   "source": [
    "wd, Ad, Bd, Cd = decompose(t)\n",
    "normalize_markov!(wd,Ad,Bd,Cd)"
   ]
  },
  {
   "cell_type": "code",
   "execution_count": 6,
   "metadata": {},
   "outputs": [
    {
     "data": {
      "text/plain": [
       "4-element Vector{Float64}:\n",
       " 4.968806832155797\n",
       " 0.32438904604475\n",
       " 2.0066510195869562\n",
       " 8.929406600728035"
      ]
     },
     "execution_count": 6,
     "metadata": {},
     "output_type": "execute_result"
    }
   ],
   "source": [
    "w"
   ]
  },
  {
   "cell_type": "code",
   "execution_count": 8,
   "metadata": {},
   "outputs": [
    {
     "data": {
      "text/plain": [
       "4-element Vector{Float64}:\n",
       " 8.92940660072812\n",
       " 0.3243890460447168\n",
       " 2.006651019586796\n",
       " 4.96880683215592"
      ]
     },
     "execution_count": 8,
     "metadata": {},
     "output_type": "execute_result"
    }
   ],
   "source": [
    "wd"
   ]
  },
  {
   "cell_type": "code",
   "execution_count": 9,
   "metadata": {},
   "outputs": [
    {
     "data": {
      "text/plain": [
       "4×4 Matrix{Float64}:\n",
       " 0.34923    0.405037   0.318796  0.0128716\n",
       " 0.0271668  0.444389   0.140342  0.461594\n",
       " 0.247094   0.0516698  0.355853  0.105121\n",
       " 0.376509   0.098904   0.185008  0.420414"
      ]
     },
     "execution_count": 9,
     "metadata": {},
     "output_type": "execute_result"
    }
   ],
   "source": [
    "A"
   ]
  },
  {
   "cell_type": "code",
   "execution_count": 10,
   "metadata": {},
   "outputs": [
    {
     "data": {
      "text/plain": [
       "4×4 Matrix{Float64}:\n",
       " 0.0128716  0.405037   0.318796  0.34923\n",
       " 0.461594   0.444389   0.140342  0.0271668\n",
       " 0.105121   0.0516698  0.355853  0.247094\n",
       " 0.420414   0.098904   0.185008  0.376509"
      ]
     },
     "execution_count": 10,
     "metadata": {},
     "output_type": "execute_result"
    }
   ],
   "source": [
    "Ad"
   ]
  },
  {
   "cell_type": "code",
   "execution_count": 11,
   "metadata": {},
   "outputs": [
    {
     "data": {
      "text/plain": [
       "2.2991100112614712e-14"
      ]
     },
     "execution_count": 11,
     "metadata": {},
     "output_type": "execute_result"
    }
   ],
   "source": [
    "using LinearAlgebra\n",
    "norm(t-tensor(wd,Ad,Bd,Cd))"
   ]
  },
  {
   "cell_type": "code",
   "execution_count": null,
   "metadata": {},
   "outputs": [],
   "source": []
  }
 ],
 "metadata": {
  "@webio": {
   "lastCommId": null,
   "lastKernelId": null
  },
  "kernelspec": {
   "display_name": "Julia 1.9.3",
   "language": "julia",
   "name": "julia-1.9"
  },
  "language_info": {
   "file_extension": ".jl",
   "mimetype": "application/julia",
   "name": "julia",
   "version": "1.9.3"
  }
 },
 "nbformat": 4,
 "nbformat_minor": 4
}
