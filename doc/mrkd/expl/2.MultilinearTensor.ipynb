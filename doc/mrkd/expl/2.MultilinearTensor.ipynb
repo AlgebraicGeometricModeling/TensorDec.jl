{
 "cells": [
  {
   "cell_type": "markdown",
   "metadata": {},
   "source": [
    "# Multilinear tensor"
   ]
  },
  {
   "cell_type": "code",
   "execution_count": 1,
   "metadata": {},
   "outputs": [],
   "source": [
    "using TensorDec"
   ]
  },
  {
   "cell_type": "markdown",
   "metadata": {},
   "source": [
    "We consider a multi-linear tensor of size 3 x 5 x 4, which is sum of r=4 tensor products of the random column vectors of the matrices `A0`, `B0`, `C0`with weights `w0`:"
   ]
  },
  {
   "cell_type": "code",
   "execution_count": 2,
   "metadata": {},
   "outputs": [
    {
     "data": {
      "text/plain": [
       "3×5×4 Array{Float64,3}:\n",
       "[:, :, 1] =\n",
       " 0.222402  0.283308  0.249751  0.357905  0.445553\n",
       " 0.48642   0.249264  0.429532  0.267033  0.514896\n",
       " 0.484621  0.409858  0.520992  0.446184  0.701548\n",
       "\n",
       "[:, :, 2] =\n",
       " 0.100051  0.0767232  0.0951218  0.0922465  0.138464\n",
       " 0.380406  0.0940893  0.284429   0.0865987  0.280005\n",
       " 0.33198   0.131513   0.278601   0.129391   0.302344\n",
       "\n",
       "[:, :, 3] =\n",
       " 0.0633582  0.121002  0.121238  0.104648   0.150986\n",
       " 0.170347   0.117575  0.195356  0.0910639  0.200025\n",
       " 0.164727   0.206409  0.263668  0.16259    0.288677\n",
       "\n",
       "[:, :, 4] =\n",
       " 0.0952716  0.0730845  0.0707191  0.112236   0.141138\n",
       " 0.276662   0.0692249  0.190936   0.0838133  0.212043\n",
       " 0.253229   0.0953878  0.180919   0.127586   0.237287"
      ]
     },
     "execution_count": 2,
     "metadata": {},
     "output_type": "execute_result"
    }
   ],
   "source": [
    "r=4\n",
    "w0 = rand(r)\n",
    "A0 = rand(3,r)\n",
    "B0 = rand(5,r)\n",
    "C0 = rand(4,r)\n",
    "\n",
    "T0 = tensor(w0, A0, B0, C0)"
   ]
  },
  {
   "cell_type": "markdown",
   "metadata": {},
   "source": [
    "We compute its decomposition:"
   ]
  },
  {
   "cell_type": "code",
   "execution_count": 3,
   "metadata": {},
   "outputs": [],
   "source": [
    "w, A, B, C = decompose(T0);"
   ]
  },
  {
   "cell_type": "markdown",
   "metadata": {},
   "source": [
    "We obtain a decomposition of rank 4 with weights:"
   ]
  },
  {
   "cell_type": "code",
   "execution_count": 4,
   "metadata": {},
   "outputs": [
    {
     "data": {
      "text/plain": [
       "4-element Array{Float64,1}:\n",
       " 1.05137 \n",
       " 0.608236\n",
       " 0.657986\n",
       " 0.199031"
      ]
     },
     "execution_count": 4,
     "metadata": {},
     "output_type": "execute_result"
    }
   ],
   "source": [
    "w"
   ]
  },
  {
   "cell_type": "markdown",
   "metadata": {},
   "source": [
    "The 4 vectors of the first component, with norm 1, are the colmuns of the matrix A:  "
   ]
  },
  {
   "cell_type": "code",
   "execution_count": 5,
   "metadata": {},
   "outputs": [
    {
     "data": {
      "text/plain": [
       "3×4 Array{Float64,2}:\n",
       " 0.135676  0.383353  0.64105   0.720917\n",
       " 0.767565  0.435744  0.397167  0.292406\n",
       " 0.626447  0.814351  0.656744  0.628313"
      ]
     },
     "execution_count": 5,
     "metadata": {},
     "output_type": "execute_result"
    }
   ],
   "source": [
    "A"
   ]
  },
  {
   "cell_type": "markdown",
   "metadata": {},
   "source": [
    "The 4 vectors of the second component, with norm 1, are the colmuns of the matrix B: "
   ]
  },
  {
   "cell_type": "code",
   "execution_count": 6,
   "metadata": {},
   "outputs": [
    {
     "data": {
      "text/plain": [
       "5×4 Array{Float64,2}:\n",
       " -0.747703   -0.0622569  -0.287695  0.285055\n",
       " -0.0822081  -0.511699   -0.334426  0.49955 \n",
       " -0.499925   -0.527881   -0.187468  0.329212\n",
       " -0.0517652  -0.360528   -0.606854  0.507575\n",
       " -0.42612    -0.570657   -0.634015  0.550618"
      ]
     },
     "execution_count": 6,
     "metadata": {},
     "output_type": "execute_result"
    }
   ],
   "source": [
    "B"
   ]
  },
  {
   "cell_type": "markdown",
   "metadata": {},
   "source": [
    "The 4 vectors of the third component, with norm 1, are the colmuns of the matrix C: "
   ]
  },
  {
   "cell_type": "code",
   "execution_count": 7,
   "metadata": {},
   "outputs": [
    {
     "data": {
      "text/plain": [
       "4×4 Array{Float64,2}:\n",
       " -0.651003  -0.768702   -0.901631   0.792054\n",
       " -0.591965  -0.226033   -0.225253   0.154   \n",
       " -0.244873  -0.597034   -0.0443904  0.566911\n",
       " -0.407198  -0.0394597  -0.366542   0.165971"
      ]
     },
     "execution_count": 7,
     "metadata": {},
     "output_type": "execute_result"
    }
   ],
   "source": [
    "C"
   ]
  },
  {
   "cell_type": "markdown",
   "metadata": {},
   "source": [
    "It corresponds to the tensor `sum(w[i] A[:,i] ° B[:,i] ° C[:,i] for i in 1:r)`:"
   ]
  },
  {
   "cell_type": "code",
   "execution_count": 8,
   "metadata": {},
   "outputs": [
    {
     "data": {
      "text/plain": [
       "3×5×4 Array{Float64,3}:\n",
       "[:, :, 1] =\n",
       " 0.222402  0.283308  0.249751  0.357905  0.445553\n",
       " 0.48642   0.249264  0.429532  0.267033  0.514896\n",
       " 0.484621  0.409858  0.520992  0.446184  0.701548\n",
       "\n",
       "[:, :, 2] =\n",
       " 0.100051  0.0767232  0.0951218  0.0922465  0.138464\n",
       " 0.380406  0.0940893  0.284429   0.0865987  0.280005\n",
       " 0.33198   0.131513   0.278601   0.129391   0.302344\n",
       "\n",
       "[:, :, 3] =\n",
       " 0.0633582  0.121002  0.121238  0.104648   0.150986\n",
       " 0.170347   0.117575  0.195356  0.0910639  0.200025\n",
       " 0.164727   0.206409  0.263668  0.16259    0.288677\n",
       "\n",
       "[:, :, 4] =\n",
       " 0.0952716  0.0730845  0.0707191  0.112236   0.141138\n",
       " 0.276662   0.0692249  0.190936   0.0838133  0.212043\n",
       " 0.253229   0.0953878  0.180919   0.127586   0.237287"
      ]
     },
     "execution_count": 8,
     "metadata": {},
     "output_type": "execute_result"
    }
   ],
   "source": [
    "T = tensor(w, A, B, C)"
   ]
  },
  {
   "cell_type": "markdown",
   "metadata": {},
   "source": [
    "We compute the L2 norm of the difference between T and T0:"
   ]
  },
  {
   "cell_type": "code",
   "execution_count": 9,
   "metadata": {},
   "outputs": [
    {
     "data": {
      "text/plain": [
       "5.81504149525808e-15"
      ]
     },
     "execution_count": 9,
     "metadata": {},
     "output_type": "execute_result"
    }
   ],
   "source": [
    "norm(T-T0)"
   ]
  }
 ],
 "metadata": {
  "kernelspec": {
   "display_name": "Julia 0.6.0",
   "language": "julia",
   "name": "julia-0.6"
  },
  "language_info": {
   "file_extension": ".jl",
   "mimetype": "application/julia",
   "name": "julia",
   "version": "0.6.0"
  }
 },
 "nbformat": 4,
 "nbformat_minor": 2
}
