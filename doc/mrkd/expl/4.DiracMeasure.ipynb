{
 "cells": [
  {
   "cell_type": "markdown",
   "metadata": {},
   "source": [
    "# Weighted sum of Dirac Measures "
   ]
  },
  {
   "cell_type": "code",
   "execution_count": 1,
   "metadata": {},
   "outputs": [],
   "source": [
    "using TensorDec"
   ]
  },
  {
   "cell_type": "markdown",
   "metadata": {},
   "source": [
    "Series with 3 variables"
   ]
  },
  {
   "cell_type": "code",
   "execution_count": 2,
   "metadata": {},
   "outputs": [],
   "source": [
    "x = @ring x1 x2 x3\n",
    "n = length(x)\n",
    "r = 4;"
   ]
  },
  {
   "cell_type": "markdown",
   "metadata": {},
   "source": [
    "Random weights in [0,1]"
   ]
  },
  {
   "cell_type": "code",
   "execution_count": 3,
   "metadata": {},
   "outputs": [
    {
     "data": {
      "text/plain": [
       "4-element Array{Float64,1}:\n",
       " 0.562331\n",
       " 0.491651\n",
       " 0.599493\n",
       " 0.12604 "
      ]
     },
     "execution_count": 3,
     "metadata": {},
     "output_type": "execute_result"
    }
   ],
   "source": [
    "w0 = rand(Float64,r)"
   ]
  },
  {
   "cell_type": "markdown",
   "metadata": {},
   "source": [
    "Random points in [0,1]^n"
   ]
  },
  {
   "cell_type": "code",
   "execution_count": 4,
   "metadata": {},
   "outputs": [
    {
     "data": {
      "text/plain": [
       "3×4 Array{Float64,2}:\n",
       " 0.800708  0.635737  0.573717  0.0315407\n",
       " 0.152573  0.458898  0.636491  0.160512 \n",
       " 0.134556  0.166168  0.133767  0.137902 "
      ]
     },
     "execution_count": 4,
     "metadata": {},
     "output_type": "execute_result"
    }
   ],
   "source": [
    "Xi0 = rand(Float64,n,r)"
   ]
  },
  {
   "cell_type": "markdown",
   "metadata": {},
   "source": [
    "Moment function of the sum of the Dirac measures of the points Xi0 with weights w0 and its generating series up to degree 3."
   ]
  },
  {
   "cell_type": "code",
   "execution_count": 5,
   "metadata": {},
   "outputs": [
    {
     "data": {
      "text/plain": [
       "1.7795149352974786 + 0.062449235043260276dx1*dx2*dx3 + 0.7566850821195507dx1^2 + 0.10286639712981892dx2*dx3 + 0.20461288653962587dx2^3 + 0.15907922554830045dx1*dx3 + 0.05190097726958566dx2^2dx3 + 0.005391207884146876dx3^3 + 0.02301246266079065dx1*dx3^2 + 0.43168338835765724dx1*dx2 + 0.27180774467135016dx1^2dx2 + 0.2549353751140343dx3 + 0.10794283421780543dx1^2dx3 + 0.528215984779713dx1^3 + 1.1107384403985188dx1 + 0.014995504351331559dx2*dx3^2 + 0.713216169908295dx2 + 0.36273942967237804dx2^2 + 0.21574184630442828dx1*dx2^2 + 0.03688058614061291dx3^2"
      ]
     },
     "execution_count": 5,
     "metadata": {},
     "output_type": "execute_result"
    }
   ],
   "source": [
    "mt = moment(w0, Xi0)\n",
    "s = series(mt, monoms(x, 3))"
   ]
  },
  {
   "cell_type": "markdown",
   "metadata": {},
   "source": [
    "Decomposition of the series from its terms up to degree 3."
   ]
  },
  {
   "cell_type": "code",
   "execution_count": 6,
   "metadata": {},
   "outputs": [],
   "source": [
    "w, Xi = decompose(s);"
   ]
  },
  {
   "cell_type": "code",
   "execution_count": 7,
   "metadata": {},
   "outputs": [
    {
     "data": {
      "text/plain": [
       "4-element Array{Float64,1}:\n",
       " 0.12604 \n",
       " 0.599493\n",
       " 0.491651\n",
       " 0.562331"
      ]
     },
     "execution_count": 7,
     "metadata": {},
     "output_type": "execute_result"
    }
   ],
   "source": [
    "w"
   ]
  },
  {
   "cell_type": "code",
   "execution_count": 8,
   "metadata": {},
   "outputs": [
    {
     "data": {
      "text/plain": [
       "3×4 Array{Float64,2}:\n",
       " 0.0315407  0.573717  0.635737  0.800708\n",
       " 0.160512   0.636491  0.458898  0.152573\n",
       " 0.137902   0.133767  0.166168  0.134556"
      ]
     },
     "execution_count": 8,
     "metadata": {},
     "output_type": "execute_result"
    }
   ],
   "source": [
    "Xi"
   ]
  },
  {
   "cell_type": "code",
   "execution_count": null,
   "metadata": {},
   "outputs": [],
   "source": []
  }
 ],
 "metadata": {
  "anaconda-cloud": {},
  "kernelspec": {
   "display_name": "Julia 0.6.0",
   "language": "julia",
   "name": "julia-0.6"
  },
  "language_info": {
   "file_extension": ".jl",
   "mimetype": "application/julia",
   "name": "julia",
   "version": "0.6.0"
  }
 },
 "nbformat": 4,
 "nbformat_minor": 1
}
