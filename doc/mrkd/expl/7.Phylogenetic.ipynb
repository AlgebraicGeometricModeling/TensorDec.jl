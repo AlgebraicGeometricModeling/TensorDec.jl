{
 "cells": [
  {
   "cell_type": "markdown",
   "metadata": {},
   "source": [
    "# Phylogenetic trees"
   ]
  },
  {
   "cell_type": "code",
   "execution_count": 1,
   "metadata": {},
   "outputs": [
    {
     "data": {
      "text/plain": [
       "#3 (generic function with 1 method)"
      ]
     },
     "execution_count": 1,
     "metadata": {},
     "output_type": "execute_result"
    }
   ],
   "source": [
    "using TensorDec\n",
    "normalize_markov! = function(w,A,B,C) \n",
    "    for i in 1:size(A,2) \n",
    "        l = sum(A[j,i] for j in 1:size(A,1) ) \n",
    "        A[:,i] /= l\n",
    "        w[i] *= l\n",
    "    end\n",
    "    for i in 1:size(B,2) \n",
    "        l = sum(B[j,i] for j in 1:size(B,1) ) \n",
    "        B[:,i] /=l\n",
    "        w[i] *= l\n",
    "    end\n",
    "    for i in 1:size(C,2) \n",
    "        l = sum(C[j,i] for j in 1:size(B,1) ) \n",
    "        C[:,i] /=l\n",
    "        w[i] *= l\n",
    "    end\n",
    "    w, A,B,C\n",
    "end"
   ]
  },
  {
   "cell_type": "code",
   "execution_count": 2,
   "metadata": {},
   "outputs": [
    {
     "data": {
      "text/plain": [
       "([1.0 1.0 1.0 1.0], [1.0 1.0 1.0 1.0], [1.0 1.0 1.0 1.0])"
      ]
     },
     "execution_count": 2,
     "metadata": {},
     "output_type": "execute_result"
    }
   ],
   "source": [
    "A = rand(4,4); B = rand(4,4); C = rand(4,4); w = rand(4);\n",
    "normalize_markov!(w,A,B,C)\n",
    "fill(1.,4)'*A, fill(1.,4)'*B, fill(1.,4)'*C"
   ]
  },
  {
   "cell_type": "code",
   "execution_count": 3,
   "metadata": {},
   "outputs": [
    {
     "data": {
      "text/plain": [
       "4×4×4 Array{Float64,3}:\n",
       "[:, :, 1] =\n",
       " 0.22132   0.166737  0.254042  0.0613668\n",
       " 0.092515  0.112218  0.194429  0.0814187\n",
       " 0.316227  0.225333  0.297283  0.0668594\n",
       " 0.309741  0.261594  0.293648  0.110342 \n",
       "\n",
       "[:, :, 2] =\n",
       " 0.0403731  0.0268474  0.0398125  0.0135116\n",
       " 0.024117   0.0254106  0.0371     0.0226149\n",
       " 0.0546752  0.0364448  0.0452751  0.0139016\n",
       " 0.0583531  0.0540776  0.051944   0.0289579\n",
       "\n",
       "[:, :, 3] =\n",
       " 0.15016    0.0921238  0.133752  0.0523025\n",
       " 0.0810969  0.0689567  0.112981  0.0703695\n",
       " 0.196223   0.121267   0.146411  0.0483899\n",
       " 0.180559   0.144179   0.137036  0.0674456\n",
       "\n",
       "[:, :, 4] =\n",
       " 0.119343   0.11672   0.22974   0.0601882\n",
       " 0.0967337  0.124609  0.217909  0.0854228\n",
       " 0.146758   0.136596  0.242653  0.0650576\n",
       " 0.168666   0.191626  0.252545  0.11588  "
      ]
     },
     "execution_count": 3,
     "metadata": {},
     "output_type": "execute_result"
    }
   ],
   "source": [
    "t = tensor(w,A,B,C)"
   ]
  },
  {
   "cell_type": "code",
   "execution_count": 4,
   "metadata": {},
   "outputs": [
    {
     "ename": "MethodError",
     "evalue": "MethodError: no method matching decompose(::Array{Array{Float64,2},1}, ::Array{Float64,1}, ::getfield(MultivariateSeries, Symbol(\"##25#27\")){Float64})\nClosest candidates are:\n  decompose(::Array{Array{C,2},1}, !Matched::Function) where C at /Users/mourrain/.julia/packages/MultivariateSeries/mJQLE/src/decompose.jl:20\n  decompose(!Matched::DynamicPolynomials.Polynomial{true,C}, !Matched::Function, ::Any) where C at /Users/mourrain/Julia/TensorDec.jl/src/decompose.jl:22",
     "output_type": "error",
     "traceback": [
      "MethodError: no method matching decompose(::Array{Array{Float64,2},1}, ::Array{Float64,1}, ::getfield(MultivariateSeries, Symbol(\"##25#27\")){Float64})\nClosest candidates are:\n  decompose(::Array{Array{C,2},1}, !Matched::Function) where C at /Users/mourrain/.julia/packages/MultivariateSeries/mJQLE/src/decompose.jl:20\n  decompose(!Matched::DynamicPolynomials.Polynomial{true,C}, !Matched::Function, ::Any) where C at /Users/mourrain/Julia/TensorDec.jl/src/decompose.jl:22",
      "",
      "Stacktrace:",
      " [1] #decompose#23(::Int64, ::Function, ::Array{Float64,3}, ::Function) at /Users/mourrain/Julia/TensorDec.jl/src/decompose.jl:215",
      " [2] decompose(::Array{Float64,3}, ::Function) at /Users/mourrain/Julia/TensorDec.jl/src/decompose.jl:210 (repeats 2 times)",
      " [3] top-level scope at In[4]:1"
     ]
    }
   ],
   "source": [
    "wd, Ad, Bd, Cd = decompose(t)\n",
    "normalize_markov!(wd,Ad,Bd,Cd)"
   ]
  },
  {
   "cell_type": "code",
   "execution_count": 5,
   "metadata": {},
   "outputs": [
    {
     "data": {
      "text/plain": [
       "4-element Array{Float64,1}:\n",
       " 1.3184908145711505\n",
       " 1.1386144184166538\n",
       " 2.8433075891450534\n",
       " 2.5117767986101014"
      ]
     },
     "execution_count": 5,
     "metadata": {},
     "output_type": "execute_result"
    }
   ],
   "source": [
    "w"
   ]
  },
  {
   "cell_type": "code",
   "execution_count": 6,
   "metadata": {},
   "outputs": [
    {
     "ename": "UndefVarError",
     "evalue": "UndefVarError: wd not defined",
     "output_type": "error",
     "traceback": [
      "UndefVarError: wd not defined",
      "",
      "Stacktrace:",
      " [1] top-level scope at In[6]:1"
     ]
    }
   ],
   "source": [
    "wd"
   ]
  },
  {
   "cell_type": "code",
   "execution_count": 7,
   "metadata": {},
   "outputs": [
    {
     "data": {
      "text/plain": [
       "4×4 Array{Float64,2}:\n",
       " 0.0135068  0.32004   0.275579  0.243881   \n",
       " 0.299151   0.323187  0.240813  0.000311288\n",
       " 0.063392   0.252418  0.271949  0.404148   \n",
       " 0.62395    0.104355  0.211659  0.35166    "
      ]
     },
     "execution_count": 7,
     "metadata": {},
     "output_type": "execute_result"
    }
   ],
   "source": [
    "A"
   ]
  },
  {
   "cell_type": "code",
   "execution_count": 8,
   "metadata": {},
   "outputs": [
    {
     "ename": "UndefVarError",
     "evalue": "UndefVarError: Ad not defined",
     "output_type": "error",
     "traceback": [
      "UndefVarError: Ad not defined",
      "",
      "Stacktrace:",
      " [1] top-level scope at In[8]:1"
     ]
    }
   ],
   "source": [
    "Ad"
   ]
  },
  {
   "cell_type": "code",
   "execution_count": 9,
   "metadata": {},
   "outputs": [
    {
     "ename": "UndefVarError",
     "evalue": "UndefVarError: wd not defined",
     "output_type": "error",
     "traceback": [
      "UndefVarError: wd not defined",
      "",
      "Stacktrace:",
      " [1] top-level scope at In[9]:2"
     ]
    }
   ],
   "source": [
    "using LinearAlgebra\n",
    "norm(t-tensor(wd,Ad,Bd,Cd))"
   ]
  },
  {
   "cell_type": "code",
   "execution_count": null,
   "metadata": {},
   "outputs": [],
   "source": []
  }
 ],
 "metadata": {
  "@webio": {
   "lastCommId": null,
   "lastKernelId": null
  },
  "kernelspec": {
   "display_name": "Julia 1.0.0",
   "language": "julia",
   "name": "julia-1.0"
  },
  "language_info": {
   "file_extension": ".jl",
   "mimetype": "application/julia",
   "name": "julia",
   "version": "1.0.0"
  }
 },
 "nbformat": 4,
 "nbformat_minor": 2
}
