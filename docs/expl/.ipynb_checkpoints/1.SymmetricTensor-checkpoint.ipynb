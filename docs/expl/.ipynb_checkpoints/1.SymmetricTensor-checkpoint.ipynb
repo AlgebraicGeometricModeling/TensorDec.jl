{
 "cells": [
  {
   "cell_type": "markdown",
   "metadata": {},
   "source": [
    "# Symmetric tensors"
   ]
  },
  {
   "cell_type": "code",
   "execution_count": 1,
   "metadata": {},
   "outputs": [],
   "source": [
    "using TensorDec"
   ]
  },
  {
   "cell_type": "markdown",
   "metadata": {},
   "source": [
    "We consider symmetric tensors or equivalently homogeneous polynomials, in the following variables:"
   ]
  },
  {
   "cell_type": "code",
   "execution_count": 2,
   "metadata": {},
   "outputs": [],
   "source": [
    "using TensorDec, DynamicPolynomials\n",
    "X = @polyvar x0 x1 x2;"
   ]
  },
  {
   "cell_type": "markdown",
   "metadata": {},
   "source": [
    "A symmetric tensor of order d=4 and of rank 3."
   ]
  },
  {
   "cell_type": "code",
   "execution_count": 3,
   "metadata": {},
   "outputs": [
    {
     "data": {
      "text/latex": [
       "$$ -1.68359375x2^{4} + 1.6875x1x2^{3} + 3.375x1^{2}x2^{2} + 3.0x1^{3}x2 + 2.5x1^{4} + 9.6875x0x2^{3} + 6.75x0x1x2^{2} + 9.0x0x1^{2}x2 - 2.0x0x1^{3} - 8.625x0^{2}x2^{2} + 9.0x0^{2}x1x2 + 15.0x0^{2}x1^{2} + 11.0x0^{3}x2 - 2.0x0^{3}x1 + 0.5x0^{4} $$"
      ],
      "text/plain": [
       "-1.68359375x2⁴ + 1.6875x1x2³ + 3.375x1²x2² + 3.0x1³x2 + 2.5x1⁴ + 9.6875x0x2³ + 6.75x0x1x2² + 9.0x0x1²x2 - 2.0x0x1³ - 8.625x0²x2² + 9.0x0²x1x2 + 15.0x0²x1² + 11.0x0³x2 - 2.0x0³x1 + 0.5x0⁴"
      ]
     },
     "execution_count": 3,
     "metadata": {},
     "output_type": "execute_result"
    }
   ],
   "source": [
    "d=4; F = (x0+x1+0.75x2)^d + 1.5*(x0-x1)^d -2.0*(x0-x2)^d"
   ]
  },
  {
   "cell_type": "markdown",
   "metadata": {},
   "source": [
    "The graph of the homogeneous polynomial $(x_0+x_1+0.75x_2)^4 + 1.5(x_0-x_1)^4 -2(x_0-x_2)^4$ in polar coordinates on the sphere looks like this:"
   ]
  },
  {
   "cell_type": "markdown",
   "metadata": {},
   "source": [
    "![tensor](tensor.png)"
   ]
  },
  {
   "cell_type": "markdown",
   "metadata": {},
   "source": [
    "We associate to $t$, the following (truncated) series in the dual variables, after substituting $x_0$ by 1:"
   ]
  },
  {
   "cell_type": "markdown",
   "metadata": {},
   "source": [
    "Computing its decomposition"
   ]
  },
  {
   "cell_type": "code",
   "execution_count": 4,
   "metadata": {},
   "outputs": [],
   "source": [
    "w, Xi = decompose(F);"
   ]
  },
  {
   "cell_type": "markdown",
   "metadata": {},
   "source": [
    "yields the weights `w`"
   ]
  },
  {
   "cell_type": "code",
   "execution_count": 5,
   "metadata": {},
   "outputs": [
    {
     "data": {
      "text/plain": [
       "3-element Vector{Float64}:\n",
       " -8.000000000000021\n",
       "  6.000000000001599\n",
       "  6.566406250000015"
      ]
     },
     "execution_count": 5,
     "metadata": {},
     "output_type": "execute_result"
    }
   ],
   "source": [
    "w"
   ]
  },
  {
   "cell_type": "markdown",
   "metadata": {},
   "source": [
    "and the corresponding points $\\Xi$, which are the coefficient vectors of $x_0, x_1, x_2$ in the linear forms of the decomposition of the tensor F. They are normalized to have norm 1:"
   ]
  },
  {
   "cell_type": "code",
   "execution_count": 6,
   "metadata": {},
   "outputs": [
    {
     "data": {
      "text/plain": [
       "3×3 Matrix{Float64}:\n",
       " -0.707107      0.707107     0.624695\n",
       "  4.71018e-19  -0.707107     0.624695\n",
       "  0.707107      2.43289e-17  0.468521"
      ]
     },
     "execution_count": 6,
     "metadata": {},
     "output_type": "execute_result"
    }
   ],
   "source": [
    "Xi"
   ]
  },
  {
   "cell_type": "code",
   "execution_count": null,
   "metadata": {},
   "outputs": [],
   "source": []
  }
 ],
 "metadata": {
  "anaconda-cloud": {},
  "kernelspec": {
   "display_name": "Julia 1.9.3",
   "language": "julia",
   "name": "julia-1.9"
  },
  "language_info": {
   "file_extension": ".jl",
   "mimetype": "application/julia",
   "name": "julia",
   "version": "1.9.3"
  }
 },
 "nbformat": 4,
 "nbformat_minor": 4
}
