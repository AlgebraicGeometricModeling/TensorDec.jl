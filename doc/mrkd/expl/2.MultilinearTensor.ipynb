{
 "cells": [
  {
   "cell_type": "markdown",
   "metadata": {},
   "source": [
    "# Multilinear tensor"
   ]
  },
  {
   "cell_type": "code",
   "execution_count": 1,
   "metadata": {},
   "outputs": [],
   "source": [
    "using TensorDec"
   ]
  },
  {
   "cell_type": "markdown",
   "metadata": {},
   "source": [
    "We consider a multi-linear tensor of size 3 x 4 x 5, which is sum of tensor products of random vectors, which are the colmuns of the matrices `A0`, `B0`, `C0`with weights `w0`:"
   ]
  },
  {
   "cell_type": "code",
   "execution_count": 2,
   "metadata": {},
   "outputs": [
    {
     "data": {
      "text/plain": [
       "4×3×5 Array{Float64,3}:\n",
       "[:, :, 1] =\n",
       " 0.159385   0.329923  0.223307 \n",
       " 0.113206   0.260249  0.144085 \n",
       " 0.128891   0.270302  0.167978 \n",
       " 0.0688359  0.188183  0.0720426\n",
       "\n",
       "[:, :, 2] =\n",
       " 0.0712152  0.147552  0.0976956\n",
       " 0.053632   0.126337  0.0654307\n",
       " 0.0599872  0.127307  0.0768573\n",
       " 0.0359095  0.101122  0.0353947\n",
       "\n",
       "[:, :, 3] =\n",
       " 0.138084   0.289562  0.203655 \n",
       " 0.0930081  0.211113  0.12687  \n",
       " 0.101287   0.211877  0.135876 \n",
       " 0.0518     0.137275  0.0596053\n",
       "\n",
       "[:, :, 4] =\n",
       " 0.13036    0.283012  0.203137 \n",
       " 0.0950733  0.228796  0.131191 \n",
       " 0.0862976  0.188685  0.11692  \n",
       " 0.062888   0.176206  0.0698263\n",
       "\n",
       "[:, :, 5] =\n",
       " 0.0786642  0.163262  0.106995 \n",
       " 0.0610696  0.145691  0.0730894\n",
       " 0.067387   0.143981  0.0856528\n",
       " 0.0427886  0.122034  0.04114  "
      ]
     },
     "execution_count": 2,
     "metadata": {},
     "output_type": "execute_result"
    }
   ],
   "source": [
    "A0 = rand(4,3)\n",
    "B0 = rand(3,3)\n",
    "C0 = rand(5,3)\n",
    "w0 = rand(3)\n",
    "T0 = tensor(w0, A0, B0, C0)"
   ]
  },
  {
   "cell_type": "markdown",
   "metadata": {},
   "source": [
    "We compute its decomposition:"
   ]
  },
  {
   "cell_type": "code",
   "execution_count": 3,
   "metadata": {},
   "outputs": [],
   "source": [
    "w, A, B, C = decompose(T0);"
   ]
  },
  {
   "cell_type": "markdown",
   "metadata": {},
   "source": [
    "We obtain a decomposition of rank 3 with weights:"
   ]
  },
  {
   "cell_type": "code",
   "execution_count": 4,
   "metadata": {},
   "outputs": [
    {
     "data": {
      "text/plain": [
       "3-element Array{Float64,1}:\n",
       " 0.297749\n",
       " 0.73329 \n",
       " 0.27751 "
      ]
     },
     "execution_count": 4,
     "metadata": {},
     "output_type": "execute_result"
    }
   ],
   "source": [
    "w"
   ]
  },
  {
   "cell_type": "markdown",
   "metadata": {},
   "source": [
    "The 3 vectors of the first component, with norm 1, are the colmuns of the matrix A:  "
   ]
  },
  {
   "cell_type": "code",
   "execution_count": 5,
   "metadata": {},
   "outputs": [
    {
     "data": {
      "text/plain": [
       "4×3 Array{Float64,2}:\n",
       " 0.121546  0.687188  0.828936\n",
       " 0.521541  0.396037  0.471977\n",
       " 0.235676  0.595314  0.222841\n",
       " 0.810973  0.128561  0.201109"
      ]
     },
     "execution_count": 5,
     "metadata": {},
     "output_type": "execute_result"
    }
   ],
   "source": [
    "A"
   ]
  },
  {
   "cell_type": "markdown",
   "metadata": {},
   "source": [
    "The 3 vectors of the second component, with norm 1, are the colmuns of the matrix B: "
   ]
  },
  {
   "cell_type": "code",
   "execution_count": 6,
   "metadata": {},
   "outputs": [
    {
     "data": {
      "text/plain": [
       "3×3 Array{Float64,2}:\n",
       " 0.285535  -0.389307  -0.312729\n",
       " 0.935362  -0.764195  -0.728485\n",
       " 0.208728  -0.514244  -0.609516"
      ]
     },
     "execution_count": 6,
     "metadata": {},
     "output_type": "execute_result"
    }
   ],
   "source": [
    "B"
   ]
  },
  {
   "cell_type": "markdown",
   "metadata": {},
   "source": [
    "The 3 vectors of the third component, with norm 1, are the colmuns of the matrix C: "
   ]
  },
  {
   "cell_type": "code",
   "execution_count": 7,
   "metadata": {},
   "outputs": [
    {
     "data": {
      "text/plain": [
       "5×3 Array{Float64,2}:\n",
       " 0.560872  -0.651516  -0.358331\n",
       " 0.329605  -0.299923  -0.124713\n",
       " 0.356574  -0.49494   -0.51855 \n",
       " 0.529427  -0.35932   -0.756189\n",
       " 0.411515  -0.333911  -0.12381 "
      ]
     },
     "execution_count": 7,
     "metadata": {},
     "output_type": "execute_result"
    }
   ],
   "source": [
    "C"
   ]
  },
  {
   "cell_type": "markdown",
   "metadata": {},
   "source": [
    "It corresponds to the tensor `sum(w[i] A[:,i] ° B[:,i] ° C[:,i] for i in 1:r)`:"
   ]
  },
  {
   "cell_type": "code",
   "execution_count": 8,
   "metadata": {},
   "outputs": [
    {
     "data": {
      "text/plain": [
       "4×3×5 Array{Float64,3}:\n",
       "[:, :, 1] =\n",
       " 0.159385   0.329923  0.223307 \n",
       " 0.113206   0.260249  0.144085 \n",
       " 0.128891   0.270302  0.167978 \n",
       " 0.0688359  0.188183  0.0720426\n",
       "\n",
       "[:, :, 2] =\n",
       " 0.0712152  0.147552  0.0976956\n",
       " 0.053632   0.126337  0.0654307\n",
       " 0.0599872  0.127307  0.0768573\n",
       " 0.0359095  0.101122  0.0353947\n",
       "\n",
       "[:, :, 3] =\n",
       " 0.138084   0.289562  0.203655 \n",
       " 0.0930081  0.211113  0.12687  \n",
       " 0.101287   0.211877  0.135876 \n",
       " 0.0518     0.137275  0.0596053\n",
       "\n",
       "[:, :, 4] =\n",
       " 0.13036    0.283012  0.203137 \n",
       " 0.0950733  0.228796  0.131191 \n",
       " 0.0862976  0.188685  0.11692  \n",
       " 0.062888   0.176206  0.0698263\n",
       "\n",
       "[:, :, 5] =\n",
       " 0.0786642  0.163262  0.106995 \n",
       " 0.0610696  0.145691  0.0730894\n",
       " 0.067387   0.143981  0.0856528\n",
       " 0.0427886  0.122034  0.04114  "
      ]
     },
     "execution_count": 8,
     "metadata": {},
     "output_type": "execute_result"
    }
   ],
   "source": [
    "T = tensor(w, A, B, C)"
   ]
  },
  {
   "cell_type": "markdown",
   "metadata": {},
   "source": [
    "We compute the L2 norm of the difference between T and T0:"
   ]
  },
  {
   "cell_type": "code",
   "execution_count": 9,
   "metadata": {},
   "outputs": [
    {
     "data": {
      "text/plain": [
       "1.46972027008078e-7"
      ]
     },
     "execution_count": 9,
     "metadata": {},
     "output_type": "execute_result"
    }
   ],
   "source": [
    "norm(T-T0)"
   ]
  }
 ],
 "metadata": {
  "kernelspec": {
   "display_name": "Julia 0.6.0",
   "language": "julia",
   "name": "julia-0.6"
  },
  "language_info": {
   "file_extension": ".jl",
   "mimetype": "application/julia",
   "name": "julia",
   "version": "0.6.0"
  }
 },
 "nbformat": 4,
 "nbformat_minor": 2
}
