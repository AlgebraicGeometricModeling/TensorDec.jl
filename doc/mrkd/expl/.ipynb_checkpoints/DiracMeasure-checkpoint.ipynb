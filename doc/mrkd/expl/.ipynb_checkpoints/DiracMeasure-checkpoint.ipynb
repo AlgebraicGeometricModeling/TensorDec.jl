{
 "cells": [
  {
   "cell_type": "markdown",
   "metadata": {},
   "source": [
    "# Weighted sum of Dirac Measures "
   ]
  },
  {
   "cell_type": "code",
   "execution_count": 1,
   "metadata": {},
   "outputs": [],
   "source": [
    "using PolyExp"
   ]
  },
  {
   "cell_type": "markdown",
   "metadata": {},
   "source": [
    "Series with 3 variables"
   ]
  },
  {
   "cell_type": "code",
   "execution_count": 2,
   "metadata": {},
   "outputs": [],
   "source": [
    "x = @ring x1 x2 x3\n",
    "n = length(x)\n",
    "r = 4;"
   ]
  },
  {
   "cell_type": "markdown",
   "metadata": {},
   "source": [
    "Random weights in [0,1]"
   ]
  },
  {
   "cell_type": "code",
   "execution_count": 3,
   "metadata": {},
   "outputs": [
    {
     "data": {
      "text/plain": [
       "4-element Array{Float64,1}:\n",
       " 0.638924\n",
       " 0.736486\n",
       " 0.950273\n",
       " 0.986364"
      ]
     },
     "execution_count": 3,
     "metadata": {},
     "output_type": "execute_result"
    }
   ],
   "source": [
    "w0 = rand(Float64,r)"
   ]
  },
  {
   "cell_type": "markdown",
   "metadata": {},
   "source": [
    "Random points in [0,1]^n"
   ]
  },
  {
   "cell_type": "code",
   "execution_count": 4,
   "metadata": {},
   "outputs": [
    {
     "data": {
      "text/plain": [
       "4×3 Array{Float64,2}:\n",
       " 0.742948    0.141712   0.925641\n",
       " 0.00529977  0.0592681  0.902205\n",
       " 0.294066    0.467558   0.949011\n",
       " 0.339742    0.8851     0.810675"
      ]
     },
     "execution_count": 4,
     "metadata": {},
     "output_type": "execute_result"
    }
   ],
   "source": [
    "Xi0= rand(Float64,r,n)"
   ]
  },
  {
   "cell_type": "markdown",
   "metadata": {},
   "source": [
    "Moment function of the sum of the Dirac measures of the points Xi0 with weights w0 and its generating series up to degree 3."
   ]
  },
  {
   "cell_type": "code",
   "execution_count": 5,
   "metadata": {},
   "outputs": [
    {
     "data": {
      "text/plain": [
       "3.3120468991754746 + 0.4269198003937452dx1*dx2*dx3 + 0.5487137640193676dx1^2 + 1.2525893475069072dx2*dx3 + 0.783036721106592dx2^3 + 0.9797706631037382dx1*dx3 + 0.8377829660254306dx2^2dx3 + 2.385288514465678dx3^3 + 0.8817988153146903dx1*dx3^2 + 0.49476133107025977dx1*dx2 + 0.18916915015876168dx1^2dx2 + 2.9573155043999417dx3 + 0.49674301106043944dx1^2dx3 + 0.32485836129926dx1^3 + 1.0931426896163405dx1 + 1.08701240516403dx2*dx3^2 + 1.4515325452107368dx2 + 0.9958780107592893dx2^2 + 0.33316098997739185dx1*dx2^2 + 2.6509864290569904dx3^2"
      ]
     },
     "execution_count": 5,
     "metadata": {},
     "output_type": "execute_result"
    }
   ],
   "source": [
    "mt = moment(w0,Xi0)\n",
    "s = series(mt, monoms(x, 3))"
   ]
  },
  {
   "cell_type": "markdown",
   "metadata": {},
   "source": [
    "Decomposition of the series from its terms up to degree 3."
   ]
  },
  {
   "cell_type": "code",
   "execution_count": 6,
   "metadata": {},
   "outputs": [],
   "source": [
    "w, Xi = svd_decompose(s);"
   ]
  },
  {
   "cell_type": "code",
   "execution_count": 7,
   "metadata": {},
   "outputs": [
    {
     "data": {
      "text/plain": [
       "4-element Array{Float64,1}:\n",
       " 0.736486\n",
       " 0.638924\n",
       " 0.950273\n",
       " 0.986364"
      ]
     },
     "execution_count": 7,
     "metadata": {},
     "output_type": "execute_result"
    }
   ],
   "source": [
    "w"
   ]
  },
  {
   "cell_type": "code",
   "execution_count": 8,
   "metadata": {},
   "outputs": [
    {
     "data": {
      "text/plain": [
       "4×3 Array{Float64,2}:\n",
       " 0.00529977  0.0592681  0.902205\n",
       " 0.742948    0.141712   0.925641\n",
       " 0.294066    0.467558   0.949011\n",
       " 0.339742    0.8851     0.810675"
      ]
     },
     "execution_count": 8,
     "metadata": {},
     "output_type": "execute_result"
    }
   ],
   "source": [
    "Xi"
   ]
  },
  {
   "cell_type": "code",
   "execution_count": null,
   "metadata": {},
   "outputs": [],
   "source": []
  }
 ],
 "metadata": {
  "anaconda-cloud": {},
  "kernelspec": {
   "display_name": "Julia 0.6.0",
   "language": "julia",
   "name": "julia-0.6"
  },
  "language_info": {
   "file_extension": ".jl",
   "mimetype": "application/julia",
   "name": "julia",
   "version": "0.6.0"
  }
 },
 "nbformat": 4,
 "nbformat_minor": 1
}
