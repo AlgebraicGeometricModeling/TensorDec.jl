{
 "cells": [
  {
   "cell_type": "markdown",
   "metadata": {},
   "source": [
    "# Multilinear tensors"
   ]
  },
  {
   "cell_type": "code",
   "execution_count": 1,
   "metadata": {},
   "outputs": [],
   "source": [
    "using TensorDec"
   ]
  },
  {
   "cell_type": "markdown",
   "metadata": {},
   "source": [
    "We consider a multi-linear tensor of size 3 x 5 x 4, which is sum of r=4 tensor products of the random column vectors of the matrices `A0`, `B0`, `C0`with weights `w0`:"
   ]
  },
  {
   "cell_type": "code",
   "execution_count": 2,
   "metadata": {},
   "outputs": [
    {
     "data": {
      "text/plain": [
       "3×5×4 Array{Float64, 3}:\n",
       "[:, :, 1] =\n",
       " 0.316184  0.345023   0.382037  0.36165   0.486526\n",
       " 0.404335  0.276629   0.434605  0.344533  0.509244\n",
       " 0.111832  0.0641309  0.111185  0.103334  0.11392\n",
       "\n",
       "[:, :, 2] =\n",
       " 0.353912  0.447882  0.428276  0.478536  0.565683\n",
       " 0.491082  0.387773  0.529839  0.517911  0.582768\n",
       " 0.175713  0.117616  0.188383  0.200218  0.146661\n",
       "\n",
       "[:, :, 3] =\n",
       " 0.234157  0.189894   0.277909  0.200739  0.326495\n",
       " 0.333178  0.184865   0.373708  0.241155  0.376656\n",
       " 0.104873  0.0597654  0.117054  0.100222  0.088638\n",
       "\n",
       "[:, :, 4] =\n",
       " 0.372136  0.0808872  0.301894   0.187236   0.398308\n",
       " 0.499487  0.093278   0.399356   0.240435   0.524856\n",
       " 0.126637  0.0208347  0.0864272  0.0717313  0.127397"
      ]
     },
     "execution_count": 2,
     "metadata": {},
     "output_type": "execute_result"
    }
   ],
   "source": [
    "r=4\n",
    "w0 = rand(r)\n",
    "A0 = rand(3,r)\n",
    "B0 = rand(5,r)\n",
    "C0 = rand(4,r)\n",
    "\n",
    "T0 = tensor(w0, A0, B0, C0)"
   ]
  },
  {
   "cell_type": "markdown",
   "metadata": {},
   "source": [
    "We compute its decomposition:"
   ]
  },
  {
   "cell_type": "code",
   "execution_count": 3,
   "metadata": {},
   "outputs": [],
   "source": [
    "w, A, B, C = decompose(T0);"
   ]
  },
  {
   "cell_type": "markdown",
   "metadata": {},
   "source": [
    "We obtain a decomposition of rank 4 with weights:"
   ]
  },
  {
   "cell_type": "code",
   "execution_count": 4,
   "metadata": {},
   "outputs": [
    {
     "data": {
      "text/plain": [
       "4-element Vector{Float64}:\n",
       " 0.33792668673343457\n",
       " 0.7408084924294192\n",
       " 0.9605854249810668\n",
       " 1.0267280992544108"
      ]
     },
     "execution_count": 4,
     "metadata": {},
     "output_type": "execute_result"
    }
   ],
   "source": [
    "w"
   ]
  },
  {
   "cell_type": "markdown",
   "metadata": {},
   "source": [
    "The r=4 vectors of norm 1 of the first components of the decomposition are the columns of the matrix A:  "
   ]
  },
  {
   "cell_type": "code",
   "execution_count": 5,
   "metadata": {},
   "outputs": [
    {
     "data": {
      "text/plain": [
       "3×4 Matrix{Float64}:\n",
       " 0.0808627  0.576234  0.590579  0.831589\n",
       " 0.744569   0.778708  0.794381  0.548351\n",
       " 0.66263    0.248132  0.142043  0.0881477"
      ]
     },
     "execution_count": 5,
     "metadata": {},
     "output_type": "execute_result"
    }
   ],
   "source": [
    "A"
   ]
  },
  {
   "cell_type": "markdown",
   "metadata": {},
   "source": [
    "The r=4 vectors  of norm 1 of the second components are the columns of the matrix B: "
   ]
  },
  {
   "cell_type": "code",
   "execution_count": 6,
   "metadata": {},
   "outputs": [
    {
     "data": {
      "text/plain": [
       "5×4 Matrix{Float64}:\n",
       " 0.414404  0.624532   0.503332   -0.136551\n",
       " 0.334042  0.0598829  0.108848   -0.615309\n",
       " 0.571347  0.233124   0.623258   -0.335895\n",
       " 0.607836  0.469743   0.0629459  -0.52911\n",
       " 0.144163  0.575646   0.585147   -0.458221"
      ]
     },
     "execution_count": 6,
     "metadata": {},
     "output_type": "execute_result"
    }
   ],
   "source": [
    "B"
   ]
  },
  {
   "cell_type": "markdown",
   "metadata": {},
   "source": [
    "The r=4 vectors of norm 1 of the third components are the columns of the matrix C:"
   ]
  },
  {
   "cell_type": "code",
   "execution_count": 7,
   "metadata": {},
   "outputs": [
    {
     "data": {
      "text/plain": [
       "4×4 adjoint(::Matrix{Float64}) with eltype Float64:\n",
       " 0.273397   0.39815   0.489947  -0.575025\n",
       " 0.84564    0.521266  0.407014  -0.764628\n",
       " 0.458126   0.232774  0.467259  -0.287248\n",
       " 0.0163813  0.718035  0.613156  -0.0466739"
      ]
     },
     "execution_count": 7,
     "metadata": {},
     "output_type": "execute_result"
    }
   ],
   "source": [
    "C"
   ]
  },
  {
   "cell_type": "markdown",
   "metadata": {},
   "source": [
    "It corresponds to the tensor $\\sum_{i=1}^{r} w_i \\, A[:,i] \\otimes B[:,i] \\otimes C[:,i]$ for $i \\in 1:r$:"
   ]
  },
  {
   "cell_type": "code",
   "execution_count": 8,
   "metadata": {},
   "outputs": [
    {
     "data": {
      "text/plain": [
       "3×5×4 Array{Float64, 3}:\n",
       "[:, :, 1] =\n",
       " 0.316184  0.345023   0.382037  0.36165   0.486526\n",
       " 0.404335  0.276629   0.434605  0.344533  0.509244\n",
       " 0.111832  0.0641309  0.111185  0.103334  0.11392\n",
       "\n",
       "[:, :, 2] =\n",
       " 0.353912  0.447882  0.428276  0.478536  0.565683\n",
       " 0.491082  0.387773  0.529839  0.517911  0.582768\n",
       " 0.175713  0.117616  0.188383  0.200218  0.146661\n",
       "\n",
       "[:, :, 3] =\n",
       " 0.234157  0.189894   0.277909  0.200739  0.326495\n",
       " 0.333178  0.184865   0.373708  0.241155  0.376656\n",
       " 0.104873  0.0597654  0.117054  0.100222  0.088638\n",
       "\n",
       "[:, :, 4] =\n",
       " 0.372136  0.0808872  0.301894   0.187236   0.398308\n",
       " 0.499487  0.093278   0.399356   0.240435   0.524856\n",
       " 0.126637  0.0208347  0.0864272  0.0717313  0.127397"
      ]
     },
     "execution_count": 8,
     "metadata": {},
     "output_type": "execute_result"
    }
   ],
   "source": [
    "T = tensor(w, A, B, C)"
   ]
  },
  {
   "cell_type": "markdown",
   "metadata": {},
   "source": [
    "We compute the $L^2$ norm of the difference between $T$ and $T_0$:"
   ]
  },
  {
   "cell_type": "code",
   "execution_count": 9,
   "metadata": {},
   "outputs": [
    {
     "data": {
      "text/plain": [
       "5.414241769776905e-15"
      ]
     },
     "execution_count": 9,
     "metadata": {},
     "output_type": "execute_result"
    }
   ],
   "source": [
    "using LinearAlgebra\n",
    "norm(T-T0)"
   ]
  },
  {
   "cell_type": "code",
   "execution_count": null,
   "metadata": {},
   "outputs": [],
   "source": []
  }
 ],
 "metadata": {
  "@webio": {
   "lastCommId": null,
   "lastKernelId": null
  },
  "kernelspec": {
   "display_name": "Julia 1.7.2",
   "language": "julia",
   "name": "julia-1.7"
  },
  "language_info": {
   "file_extension": ".jl",
   "mimetype": "application/julia",
   "name": "julia",
   "version": "1.7.2"
  }
 },
 "nbformat": 4,
 "nbformat_minor": 2
}
