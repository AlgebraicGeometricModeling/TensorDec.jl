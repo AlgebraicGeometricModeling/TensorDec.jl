{
 "cells": [
  {
   "cell_type": "markdown",
   "metadata": {
    "collapsed": true
   },
   "source": [
    "# Border basis"
   ]
  },
  {
   "cell_type": "code",
   "execution_count": 1,
   "metadata": {},
   "outputs": [],
   "source": [
    "using PolyExp"
   ]
  },
  {
   "cell_type": "code",
   "execution_count": 2,
   "metadata": {},
   "outputs": [
    {
     "data": {
      "text/plain": [
       "-11.0dx1^2dx2^2 - 751.0dx1^4 - 43.0dx1^2 + 61.0dx1^2dx2^3 + 25.0dx2^3 - 5.0dx1*dx2 + 79.0dx2^4 - 35.0dx1^2dx2 - 719.0dx1^4dx2 - 119.0dx1^3dx2^2 - 183.0dx1^3 + 43.0dx1*dx2^3 - 3039.0dx1^5 + 151.0dx1*dx2^4 - 167.0dx1^3dx2 + 241.0dx2^5 - 9.0dx1 + dx2 + 7.0dx2^2 + 7.0dx1*dx2^2 - 1.0"
      ]
     },
     "execution_count": 2,
     "metadata": {},
     "output_type": "execute_result"
    }
   ],
   "source": [
    "x = @ring x1 x2        # 2 variables\n",
    "f = function(e)        # a moment function (Vector{Int64} -> Float64)\n",
    "    2^e[1]*3^e[2]-3*4^e[1]+1.0\n",
    "end\n",
    "L = monoms(x,5)        # list of monomials of degree <= 5\n",
    "sigma = series(f, L)   # generating series (in the dual monomials)"
   ]
  },
  {
   "cell_type": "code",
   "execution_count": 3,
   "metadata": {},
   "outputs": [],
   "source": [
    "B, K, P = bbs(sigma,L); # Border basis of sigma using the moments of L"
   ]
  },
  {
   "cell_type": "code",
   "execution_count": 4,
   "metadata": {},
   "outputs": [
    {
     "data": {
      "text/plain": [
       "3-element Array{DynamicPolynomials.Polynomial{true,Float64},1}:\n",
       " 1.0\n",
       " x2 \n",
       " x1 "
      ]
     },
     "execution_count": 4,
     "metadata": {},
     "output_type": "execute_result"
    }
   ],
   "source": [
    "B                       # Basis of the quotient"
   ]
  },
  {
   "cell_type": "code",
   "execution_count": 5,
   "metadata": {},
   "outputs": [
    {
     "data": {
      "text/plain": [
       "3-element Array{DynamicPolynomials.Polynomial{true,Float64},1}:\n",
       " x2^2 - 4.0x2 + 3.0        \n",
       " x1x2 - 1.0x1 - 2.0x2 + 2.0\n",
       " x1^2 - 5.0x1 + 1.0x2 + 3.0"
      ]
     },
     "execution_count": 5,
     "metadata": {},
     "output_type": "execute_result"
    }
   ],
   "source": [
    "K                       # Border relations"
   ]
  },
  {
   "cell_type": "code",
   "execution_count": 6,
   "metadata": {},
   "outputs": [
    {
     "data": {
      "text/plain": [
       "3-element Array{DynamicPolynomials.Polynomial{true,Float64},1}:\n",
       " x2^2\n",
       " x1x2\n",
       " x1^2"
      ]
     },
     "execution_count": 6,
     "metadata": {},
     "output_type": "execute_result"
    }
   ],
   "source": [
    "P                       # Orthogonal basis of the quotient for sigma"
   ]
  },
  {
   "cell_type": "code",
   "execution_count": null,
   "metadata": {},
   "outputs": [],
   "source": []
  }
 ],
 "metadata": {
  "anaconda-cloud": {},
  "kernelspec": {
   "display_name": "Julia 0.6.0",
   "language": "julia",
   "name": "julia-0.6"
  },
  "language_info": {
   "file_extension": ".jl",
   "mimetype": "application/julia",
   "name": "julia",
   "version": "0.6.0"
  }
 },
 "nbformat": 4,
 "nbformat_minor": 1
}
