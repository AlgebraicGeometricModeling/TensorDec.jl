{
 "cells": [
  {
   "cell_type": "code",
   "execution_count": 2,
   "metadata": {},
   "outputs": [],
   "source": [
    "using TensorDec\n",
    "using DynamicPolynomials\n",
    "using MomentTools\n",
    "using CSDP, JuMP\n",
    "# The function \"Optimizer\" is a global optimization solver based on positive semi-definite programming\n",
    "optimizer = CSDP.Optimizer\n",
    "using LinearAlgebra"
   ]
  },
  {
   "cell_type": "markdown",
   "metadata": {},
   "source": [
    "# Example 1:"
   ]
  },
  {
   "cell_type": "code",
   "execution_count": 3,
   "metadata": {},
   "outputs": [
    {
     "data": {
      "text/plain": [
       "(x1, x2, x3)"
      ]
     },
     "execution_count": 3,
     "metadata": {},
     "output_type": "execute_result"
    }
   ],
   "source": [
    "# Define the parameters\n",
    "X = @polyvar x1 x2 x3"
   ]
  },
  {
   "cell_type": "code",
   "execution_count": 4,
   "metadata": {},
   "outputs": [],
   "source": [
    "# P is a homogeneous polynomial of degree 4 in 3 variables\n",
    "P = (x1+x2+0.75*x3)^4+1.5*(x1-x2)^4-2*(x1-x3)^4;"
   ]
  },
  {
   "cell_type": "markdown",
   "metadata": {},
   "source": [
    "The graph of P in polar coordinates on the sphere looks like this:"
   ]
  },
  {
   "cell_type": "markdown",
   "metadata": {},
   "source": [
    "![title](pol_img.png)"
   ]
  },
  {
   "cell_type": "markdown",
   "metadata": {},
   "source": [
    "Let us use the function \"optimizer\" to minimize and maximize P on the unit sphere. The maximum evaluation of P <b>in absolute value</b> on the unit sphere (and that is why we have to use both maximize and minimize functions) gives the spectral norm of P and equivalently a best rank-1 approximation of the symmetric tensor associated to P."
   ]
  },
  {
   "cell_type": "code",
   "execution_count": 5,
   "metadata": {
    "scrolled": true
   },
   "outputs": [
    {
     "name": "stdout",
     "output_type": "stream",
     "text": [
      "CSDP 6.2.0\n",
      "Iter:  0 Ap: 0.00e+000 Pobj:  0.0000000e+000 Ad: 0.00e+000 Dobj:  0.0000000e+000 \n",
      "Iter:  1 Ap: 6.21e-001 Pobj: -4.7686654e+001 Ad: 3.23e-001 Dobj:  7.7359277e+000 \n",
      "Iter:  2 Ap: 1.00e+000 Pobj: -6.7310911e+002 Ad: 3.23e-001 Dobj:  9.7555745e+000 \n",
      "Iter:  3 Ap: 1.00e+000 Pobj: -6.2816076e+002 Ad: 8.92e-001 Dobj:  1.2402191e+000 \n",
      "Iter:  4 Ap: 1.00e+000 Pobj: -3.7367096e+002 Ad: 8.58e-001 Dobj:  7.2516440e-001 \n",
      "Iter:  5 Ap: 1.00e+000 Pobj: -1.6533594e+002 Ad: 7.86e-001 Dobj:  7.3251215e-001 \n",
      "Iter:  6 Ap: 1.00e+000 Pobj: -5.4922060e+001 Ad: 8.87e-001 Dobj:  6.4477629e-001 \n",
      "Iter:  7 Ap: 9.46e-001 Pobj: -1.3326049e+001 Ad: 8.77e-001 Dobj:  1.9081239e-001 \n",
      "Iter:  8 Ap: 6.21e-001 Pobj: -8.0638501e+000 Ad: 8.43e-001 Dobj: -2.7976807e+000 \n",
      "Iter:  9 Ap: 1.00e+000 Pobj: -8.9630052e+000 Ad: 5.89e-001 Dobj: -6.4430198e+000 \n",
      "Iter: 10 Ap: 9.08e-001 Pobj: -7.8083918e+000 Ad: 9.34e-001 Dobj: -7.5587006e+000 \n",
      "Iter: 11 Ap: 8.99e-001 Pobj: -7.7124422e+000 Ad: 8.30e-001 Dobj: -7.6744224e+000 \n",
      "Iter: 12 Ap: 9.14e-001 Pobj: -7.7025729e+000 Ad: 1.00e+000 Dobj: -7.6999680e+000 \n",
      "Iter: 13 Ap: 9.54e-001 Pobj: -7.7016346e+000 Ad: 1.00e+000 Dobj: -7.7014360e+000 \n",
      "Iter: 14 Ap: 9.82e-001 Pobj: -7.7015818e+000 Ad: 1.00e+000 Dobj: -7.7015635e+000 \n",
      "Iter: 15 Ap: 1.00e+000 Pobj: -7.7015797e+000 Ad: 1.00e+000 Dobj: -7.7015791e+000 \n",
      "Iter: 16 Ap: 9.45e-001 Pobj: -7.7015796e+000 Ad: 1.00e+000 Dobj: -7.7015803e+000 \n",
      "Iter: 17 Ap: 1.00e+000 Pobj: -7.7015795e+000 Ad: 1.00e+000 Dobj: -7.7015802e+000 \n",
      "Iter: 18 Ap: 1.00e+000 Pobj: -7.7015795e+000 Ad: 1.00e+000 Dobj: -7.7015796e+000 \n",
      "Iter: 19 Ap: 1.00e+000 Pobj: -7.7015795e+000 Ad: 1.00e+000 Dobj: -7.7015795e+000 \n",
      "Iter: 20 Ap: 9.60e-001 Pobj: -7.7015795e+000 Ad: 9.55e-001 Dobj: -7.7015795e+000 \n",
      "Success: SDP solved\n",
      "Primal objective value: -7.7015795e+000 \n",
      "Dual objective value: -7.7015795e+000 \n",
      "Relative primal infeasibility: 1.69e-014 \n",
      "Relative dual infeasibility: 1.46e-010 \n",
      "Real Relative Gap: -2.15e-011 \n",
      "XZ Relative Gap: 9.09e-010 \n",
      "DIMACS error measures: 3.03e-014 0.00e+000 4.40e-009 0.00e+000 -2.15e-011 9.09e-010\n",
      "CSDP 6.2.0\n",
      "Iter:  0 Ap: 0.00e+000 Pobj:  0.0000000e+000 Ad: 0.00e+000 Dobj:  0.0000000e+000 \n",
      "Iter:  1 Ap: 6.19e-001 Pobj: -4.7582096e+001 Ad: 3.23e-001 Dobj: -8.7051506e+000 \n",
      "Iter:  2 Ap: 1.00e+000 Pobj: -6.7805576e+002 Ad: 3.21e-001 Dobj: -1.1060713e+001 \n",
      "Iter:  3 Ap: 1.00e+000 Pobj: -6.3256373e+002 Ad: 8.92e-001 Dobj: -1.4167349e+000 \n",
      "Iter:  4 Ap: 1.00e+000 Pobj: -3.7606832e+002 Ad: 8.58e-001 Dobj: -8.6301371e-001 \n",
      "Iter:  5 Ap: 1.00e+000 Pobj: -1.6766920e+002 Ad: 7.87e-001 Dobj: -9.3170296e-001 \n",
      "Iter:  6 Ap: 1.00e+000 Pobj: -5.7071484e+001 Ad: 8.85e-001 Dobj: -1.0799567e+000 \n",
      "Iter:  7 Ap: 9.77e-001 Pobj: -1.3775000e+001 Ad: 8.78e-001 Dobj: -1.4854173e+000 \n",
      "Iter:  8 Ap: 7.51e-001 Pobj: -7.0873817e+000 Ad: 8.87e-001 Dobj: -3.0090717e+000 \n",
      "Iter:  9 Ap: 8.21e-001 Pobj: -7.1537314e+000 Ad: 7.49e-001 Dobj: -6.0125283e+000 \n",
      "Iter: 10 Ap: 6.32e-001 Pobj: -6.7152408e+000 Ad: 8.52e-001 Dobj: -6.3606255e+000 \n",
      "Iter: 11 Ap: 9.10e-001 Pobj: -6.5838697e+000 Ad: 6.75e-001 Dobj: -6.4912086e+000 \n",
      "Iter: 12 Ap: 9.11e-001 Pobj: -6.5671367e+000 Ad: 9.06e-001 Dobj: -6.5544305e+000 \n",
      "Iter: 13 Ap: 9.60e-001 Pobj: -6.5653688e+000 Ad: 9.74e-001 Dobj: -6.5639096e+000 \n",
      "Iter: 14 Ap: 9.85e-001 Pobj: -6.5652586e+000 Ad: 1.00e+000 Dobj: -6.5651607e+000 \n",
      "Iter: 15 Ap: 9.37e-001 Pobj: -6.5652520e+000 Ad: 1.00e+000 Dobj: -6.5652251e+000 \n",
      "Iter: 16 Ap: 1.00e+000 Pobj: -6.5652502e+000 Ad: 9.23e-001 Dobj: -6.5652491e+000 \n",
      "Iter: 17 Ap: 7.71e-001 Pobj: -6.5652501e+000 Ad: 9.38e-001 Dobj: -6.5652503e+000 \n",
      "Iter: 18 Ap: 1.00e+000 Pobj: -6.5652500e+000 Ad: 1.00e+000 Dobj: -6.5652506e+000 \n",
      "Iter: 19 Ap: 1.00e+000 Pobj: -6.5652500e+000 Ad: 1.00e+000 Dobj: -6.5652501e+000 \n",
      "Iter: 20 Ap: 1.00e+000 Pobj: -6.5652500e+000 Ad: 1.00e+000 Dobj: -6.5652500e+000 \n",
      "Iter: 21 Ap: 9.60e-001 Pobj: -6.5652500e+000 Ad: 9.53e-001 Dobj: -6.5652500e+000 \n",
      "Success: SDP solved\n",
      "Primal objective value: -6.5652500e+000 \n",
      "Dual objective value: -6.5652500e+000 \n",
      "Relative primal infeasibility: 2.80e-015 \n",
      "Relative dual infeasibility: 4.47e-010 \n",
      "Real Relative Gap: -7.76e-011 \n",
      "XZ Relative Gap: 2.82e-009 \n",
      "DIMACS error measures: 5.01e-015 0.00e+000 1.35e-008 0.00e+000 -7.76e-011 2.82e-009\n"
     ]
    }
   ],
   "source": [
    "v1, M1 = minimize(P, [x1^2+x2^2+x3^2-1], [], X, 8, optimizer);\n",
    "v2, M2 = maximize(P, [x1^2+x2^2+x3^2-1], [], X, 8, optimizer);"
   ]
  },
  {
   "cell_type": "markdown",
   "metadata": {},
   "source": [
    "The minimum evaluation of P on the unit sphere is: -7.701579459519532.\n",
    "\n",
    "The maximum evaluation of P on the unit sphere is: 6.565249952183416.\n",
    "\n",
    "Thus, the maximum weight in absolute value which is the spectral norm of P is: 7.701579459519532.\n",
    "\n",
    "The unit vectors that give this value are: [0.6805571886747267, 0.048429787707634814, -0.7310926539221407] and [-0.6805571886747267, -0.048429787707634814, 0.7310926539221407]."
   ]
  },
  {
   "cell_type": "markdown",
   "metadata": {},
   "source": [
    "Let us compute a rank-1 approximation of P. We will compute an initial point by the method SMD, the Julia function that corresponds to this method in the package TensorDec is called \"decompose\", then we will use the Riemannian Newton algorithm with trust region scheme for the real case, the corresponding Julia function in the package TensorDec is called \"rne_n_tr_r\"."
   ]
  },
  {
   "cell_type": "code",
   "execution_count": 16,
   "metadata": {},
   "outputs": [
    {
     "data": {
      "text/plain": [
       "([-7.089690728998527], [0.6841218273996007; 0.04220544010380849; -0.7281456077606144], Dict{String,Any}(\"diagonalization\" => Dict{String,Any}(\"case\" => \"1x1\")))"
      ]
     },
     "execution_count": 16,
     "metadata": {},
     "output_type": "execute_result"
    }
   ],
   "source": [
    "# Compute an initial point\n",
    "w1, V1 = decompose(P,1)"
   ]
  },
  {
   "cell_type": "markdown",
   "metadata": {},
   "source": [
    "We can notice that the weight given by decompose is very close to the one given by Optimizer. Let us refine this point by using a few number of iterations of rne_n_tr_r, for example 5 iterations."
   ]
  },
  {
   "cell_type": "code",
   "execution_count": 26,
   "metadata": {},
   "outputs": [
    {
     "data": {
      "text/plain": [
       "([-7.701576525649196], [0.68061769889553; 0.04831896554028091; -0.7310436550024019], Dict{String,Any}(\"d*\" => 8.819736152809341,\"d0\" => 8.841950556430849,\"nIter\" => 5,\"epsIter\" => 0.001,\"maxIter\" => 5))"
      ]
     },
     "execution_count": 26,
     "metadata": {},
     "output_type": "execute_result"
    }
   ],
   "source": [
    "w_end, V_end = rne_n_tr_r(P, w1, V1, Dict{String,Any}(\"maxIter\" => 5,\"epsIter\" => 1.e-3))"
   ]
  },
  {
   "cell_type": "markdown",
   "metadata": {},
   "source": [
    "The weight in absolute value given by rne_n_tr_r initialized by decompose for rank-1 symmetric tensor approximation is: 7.701576525649196.\n",
    "\n",
    "The unit vector given by rne_n_tr_r initialized by decompose for rank-1 symmetric tensor approximation is: [0.68061769889553; 0.04831896554028091; -0.7310436550024019]."
   ]
  },
  {
   "cell_type": "markdown",
   "metadata": {},
   "source": [
    "Verifying with the global optimization method \"optimizer\" from the package CSDP, the symmetric rank-1 approximation $w_{end}(v_{end}^tX)^4$ of P given by \"rne_n_tr_r\" initialized by \"decompose\" is a best rank-1 approximation."
   ]
  },
  {
   "cell_type": "markdown",
   "metadata": {},
   "source": [
    "# Example 2:"
   ]
  },
  {
   "cell_type": "markdown",
   "metadata": {},
   "source": [
    "Let us take a random symmetric tensor normally distributed with complex coefficients of order 4 and dimension 3 (the generic symmetric rank is 5), and let us compute by the Riemannian Newton algorithm \"rne_n_tr\" and the Riemannian Gauss--Newton algorithm \"rgn_v_tr\" initialized by a random initial point obeying normal distribution an approximated rank-3 symmetric tensor.   "
   ]
  },
  {
   "cell_type": "code",
   "execution_count": 38,
   "metadata": {},
   "outputs": [
    {
     "data": {
      "text/plain": [
       "3×3×3 Array{Complex{Float64},3}:\n",
       "[:, :, 1] =\n",
       "    0.304489-2.14852im   -0.00230603+2.81im      -0.621412-0.185586im\n",
       " -0.00230603+2.81im          1.26159-0.687682im   0.677236-0.314596im\n",
       "   -0.621412-0.185586im     0.677236-0.314596im   0.652919-1.50752im\n",
       "\n",
       "[:, :, 2] =\n",
       "  0.114497+0.472617im  -0.454587+2.23814im    -0.215587-1.08674im\n",
       " -0.454587+2.23814im    0.765382+0.970151im      2.2932-1.98527im\n",
       " -0.215587-1.08674im      2.2932-1.98527im   -0.0570214+0.405164im\n",
       "\n",
       "[:, :, 3] =\n",
       " -1.38547-0.945676im   0.319933+0.53044im   0.554848+1.60772im\n",
       " 0.319933+0.53044im   -0.323876+0.698715im  -1.67809-2.0286im\n",
       " 0.554848+1.60772im    -1.67809-2.0286im    -1.38897+0.225804im"
      ]
     },
     "execution_count": 38,
     "metadata": {},
     "output_type": "execute_result"
    }
   ],
   "source": [
    "# Take a random symmetric tensor\n",
    "using Tensors\n",
    "n = 3; d = 4; r = 3\n",
    "T = randn(SymmetricTensor{d, n})+randn(SymmetricTensor{d, n})*im\n",
    "T = convert(Array,T)\n",
    "# show the first 3 arrays of T\n",
    "T[:,:,:,1]"
   ]
  },
  {
   "cell_type": "code",
   "execution_count": 39,
   "metadata": {},
   "outputs": [],
   "source": [
    "# Take the associate homogeneous polynomial P to T by applying the function ahp (for associate homogeneous polynomial)\n",
    "X = (@polyvar x[1:n])[1]\n",
    "P = ahp(T, X);"
   ]
  },
  {
   "cell_type": "code",
   "execution_count": 58,
   "metadata": {},
   "outputs": [
    {
     "data": {
      "text/plain": [
       "([3.3533378582723405, 1.7528646663899954, 5.021876225230323], Complex{Float64}[-0.610048013088563 + 0.2278059897255048im 0.7944923164400758 + 0.034592585203756895im -0.04277847243642945 - 0.4515491977610789im; 0.5078071901018043 + 0.4498236972987523im 0.3999428679776847 + 0.36458354731448234im 0.4336335307863758 - 0.3802580876158061im; -0.3373082465526216 + 0.044266224244519994im -0.26111415928223225 + 0.08080375839222821im 0.6788726483700402 - 0.027766875461433867im], Dict{String,Any}(\"d*\" => 7.856359646235264,\"d0\" => 31.118041861573218,\"nIter\" => 10,\"epsIter\" => 0.001,\"maxIter\" => 500))"
      ]
     },
     "execution_count": 58,
     "metadata": {},
     "output_type": "execute_result"
    }
   ],
   "source": [
    "# Take an initial point \n",
    "w = ones(r) + fill(0.0+0.0im,r);\n",
    "V = randn(ComplexF64,n,r);\n",
    "\n",
    "# Apply rne_n_tr\n",
    "w_end, V_end, Info = rne_n_tr(P, w, V, Dict{String,Any}(\"maxIter\" => 500, \"epsIter\" => 1.e-3))"
   ]
  },
  {
   "cell_type": "code",
   "execution_count": 59,
   "metadata": {},
   "outputs": [
    {
     "data": {
      "text/plain": [
       "(Complex{Float64}[-1.197237252086016 + 0.4498363042506125im 0.6784383624116359 + 0.5660791048163021im -0.7849864638452732 - 0.01483593513452497im; 0.3788396401411271 + 0.2511463936422992im -0.974262084689121 - 0.2574674292040156im -0.6433234546249749 - 0.670531077035846im; -0.5027488452521038 + 0.616685953317809im 0.9073543082281365 + 0.35258183865185777im -0.0088033550999379 - 0.9139555194450166im], Dict{String,Any}(\"d*\" => 2.8904022783502117,\"d0\" => 31.118041861573218,\"nIter\" => 27,\"epsIter\" => 0.001,\"maxIter\" => 500))"
      ]
     },
     "execution_count": 59,
     "metadata": {},
     "output_type": "execute_result"
    }
   ],
   "source": [
    "# Adjust the initial point to use't with rgn_v_tr since this function take only the matrix V as parameters without the weight vector\n",
    "for i in 1:r\n",
    "    V[:,i]=(w[i])^(1/d)*V[:,i]\n",
    "end\n",
    "\n",
    "# Apply rgn_v_tr\n",
    "V_end, Info = rgn_v_tr(P, V, Dict{String,Any}(\"maxIter\" => 500,\"epsIter\" => 1.e-3))"
   ]
  },
  {
   "cell_type": "markdown",
   "metadata": {},
   "source": [
    "The reported error is the apolar norm between P and the approximated polynomial.\n",
    "\n",
    "The initial error \"d0\" is ~ 31.11.\n",
    "\n",
    "The algorithm rne_n_tr takes 10 iterations and decreases to the final error d* ~ 7.85, while the algorithm decreases to the final error ~ 2.89 after 27 iterations."
   ]
  }
 ],
 "metadata": {
  "kernelspec": {
   "display_name": "Julia 1.4.1",
   "language": "julia",
   "name": "julia-1.4"
  },
  "language_info": {
   "file_extension": ".jl",
   "mimetype": "application/julia",
   "name": "julia",
   "version": "1.4.1"
  }
 },
 "nbformat": 4,
 "nbformat_minor": 4
}
