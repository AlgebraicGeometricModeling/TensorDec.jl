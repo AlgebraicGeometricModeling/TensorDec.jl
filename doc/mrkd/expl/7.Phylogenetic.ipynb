{
 "cells": [
  {
   "cell_type": "markdown",
   "metadata": {},
   "source": [
    "# Phylogenetic trees"
   ]
  },
  {
   "cell_type": "code",
   "execution_count": 1,
   "metadata": {},
   "outputs": [
    {
     "data": {
      "text/plain": [
       "(::#1) (generic function with 1 method)"
      ]
     },
     "execution_count": 1,
     "metadata": {},
     "output_type": "execute_result"
    }
   ],
   "source": [
    "using TensorDec\n",
    "normalize_markov! = function(w,A,B,C) \n",
    "    for i in 1:size(A,2) \n",
    "        l = sum(A[j,i] for j in 1:size(A,1) ) \n",
    "        A[:,i] /= l\n",
    "        w[i] *= l\n",
    "    end\n",
    "    for i in 1:size(B,2) \n",
    "        l = sum(B[j,i] for j in 1:size(B,1) ) \n",
    "        B[:,i] /=l\n",
    "        w[i] *= l\n",
    "    end\n",
    "    for i in 1:size(C,2) \n",
    "        l = sum(C[j,i] for j in 1:size(B,1) ) \n",
    "        C[:,i] /=l\n",
    "        w[i] *= l\n",
    "    end\n",
    "    w, A,B,C\n",
    "end"
   ]
  },
  {
   "cell_type": "code",
   "execution_count": 2,
   "metadata": {},
   "outputs": [
    {
     "data": {
      "text/plain": [
       "([1.0 1.0 1.0 1.0], [1.0 1.0 1.0 1.0], [1.0 1.0 1.0 1.0])"
      ]
     },
     "execution_count": 2,
     "metadata": {},
     "output_type": "execute_result"
    }
   ],
   "source": [
    "A = rand(4,4); B = rand(4,4); C = rand(4,4); w = rand(4);\n",
    "normalize_markov!(w,A,B,C)\n",
    "fill(1.,4)'*A, fill(1.,4)'*B, fill(1.,4)'*C"
   ]
  },
  {
   "cell_type": "code",
   "execution_count": 3,
   "metadata": {},
   "outputs": [
    {
     "data": {
      "text/plain": [
       "4×4×4 Array{Float64,3}:\n",
       "[:, :, 1] =\n",
       " 0.320077  0.420908  0.475253  0.247127\n",
       " 0.213319  0.307566  0.588408  0.224455\n",
       " 0.1917    0.293001  0.582306  0.187666\n",
       " 0.45846   0.610626  0.921451  0.340751\n",
       "\n",
       "[:, :, 2] =\n",
       " 0.280598  0.356095  0.414781  0.172266\n",
       " 0.216832  0.321847  0.615896  0.18891 \n",
       " 0.201625  0.311211  0.630846  0.181488\n",
       " 0.507995  0.679081  1.01114   0.339524\n",
       "\n",
       "[:, :, 3] =\n",
       " 0.163092  0.203824  0.24255   0.0909542\n",
       " 0.134334  0.201202  0.388134  0.11168  \n",
       " 0.125966  0.195363  0.400887  0.111561 \n",
       " 0.321378  0.430591  0.64321   0.210276 \n",
       "\n",
       "[:, :, 4] =\n",
       " 0.265587  0.350888  0.358595  0.221097\n",
       " 0.145616  0.191792  0.314945  0.15979 \n",
       " 0.124797  0.175718  0.291309  0.116509\n",
       " 0.307703  0.387446  0.502116  0.224392"
      ]
     },
     "execution_count": 3,
     "metadata": {},
     "output_type": "execute_result"
    }
   ],
   "source": [
    "t = tensor(w,A,B,C)"
   ]
  },
  {
   "cell_type": "code",
   "execution_count": 4,
   "metadata": {},
   "outputs": [
    {
     "data": {
      "text/plain": [
       "([8.75104, 1.73324, 9.71851, 0.723709], [0.0946489 0.661463 0.253254 0.204076; 0.266164 0.118039 0.155807 0.382351; 0.286631 0.114663 0.135711 0.132622; 0.352556 0.105835 0.455228 0.280951], [0.0846472 0.203291 0.287103 0.132316; 0.188458 0.309878 0.32835 0.0826015; 0.589626 0.279492 0.258835 0.306848; 0.137268 0.207338 0.125712 0.478235], [0.306021 0.405378 0.277047 0.428301; 0.345862 0.111032 0.323644 0.0907689; 0.222999 0.00489305 0.206897 0.00596532; 0.125118 0.478697 0.192412 0.474965])"
      ]
     },
     "execution_count": 4,
     "metadata": {},
     "output_type": "execute_result"
    }
   ],
   "source": [
    "wd, Ad, Bd, Cd = decompose(t)\n",
    "normalize_markov!(wd,Ad,Bd,Cd)"
   ]
  },
  {
   "cell_type": "code",
   "execution_count": 5,
   "metadata": {},
   "outputs": [
    {
     "data": {
      "text/plain": [
       "4-element Array{Float64,1}:\n",
       " 0.723709\n",
       " 8.75104 \n",
       " 9.71851 \n",
       " 1.73324 "
      ]
     },
     "execution_count": 5,
     "metadata": {},
     "output_type": "execute_result"
    }
   ],
   "source": [
    "w"
   ]
  },
  {
   "cell_type": "code",
   "execution_count": 6,
   "metadata": {},
   "outputs": [
    {
     "data": {
      "text/plain": [
       "4-element Array{Float64,1}:\n",
       " 8.75104 \n",
       " 1.73324 \n",
       " 9.71851 \n",
       " 0.723709"
      ]
     },
     "execution_count": 6,
     "metadata": {},
     "output_type": "execute_result"
    }
   ],
   "source": [
    "wd"
   ]
  },
  {
   "cell_type": "code",
   "execution_count": 7,
   "metadata": {},
   "outputs": [
    {
     "data": {
      "text/plain": [
       "4×4 Array{Float64,2}:\n",
       " 0.204076  0.0946489  0.253254  0.661463\n",
       " 0.382351  0.266164   0.155807  0.118039\n",
       " 0.132622  0.286631   0.135711  0.114663\n",
       " 0.280951  0.352556   0.455228  0.105835"
      ]
     },
     "execution_count": 7,
     "metadata": {},
     "output_type": "execute_result"
    }
   ],
   "source": [
    "A"
   ]
  },
  {
   "cell_type": "code",
   "execution_count": 8,
   "metadata": {},
   "outputs": [
    {
     "data": {
      "text/plain": [
       "4×4 Array{Float64,2}:\n",
       " 0.0946489  0.661463  0.253254  0.204076\n",
       " 0.266164   0.118039  0.155807  0.382351\n",
       " 0.286631   0.114663  0.135711  0.132622\n",
       " 0.352556   0.105835  0.455228  0.280951"
      ]
     },
     "execution_count": 8,
     "metadata": {},
     "output_type": "execute_result"
    }
   ],
   "source": [
    "Ad"
   ]
  },
  {
   "cell_type": "code",
   "execution_count": 9,
   "metadata": {},
   "outputs": [
    {
     "data": {
      "text/plain": [
       "6.380155789400488e-14"
      ]
     },
     "execution_count": 9,
     "metadata": {},
     "output_type": "execute_result"
    }
   ],
   "source": [
    "norm(t-tensor(wd,Ad,Bd,Cd))"
   ]
  },
  {
   "cell_type": "code",
   "execution_count": null,
   "metadata": {},
   "outputs": [],
   "source": []
  }
 ],
 "metadata": {
  "kernelspec": {
   "display_name": "Julia 0.6.0",
   "language": "julia",
   "name": "julia-0.6"
  },
  "language_info": {
   "file_extension": ".jl",
   "mimetype": "application/julia",
   "name": "julia",
   "version": "0.6.0"
  }
 },
 "nbformat": 4,
 "nbformat_minor": 2
}
